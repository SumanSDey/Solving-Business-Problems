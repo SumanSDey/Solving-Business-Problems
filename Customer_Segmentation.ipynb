{
  "nbformat": 4,
  "nbformat_minor": 0,
  "metadata": {
    "colab": {
      "provenance": [],
      "mount_file_id": "1nK2oGu6bHiYiuvhKmntqM4d__He_HD9-",
      "authorship_tag": "ABX9TyMGD0AdXKmp2srA//FBuQHZ",
      "include_colab_link": true
    },
    "kernelspec": {
      "name": "python3",
      "display_name": "Python 3"
    },
    "language_info": {
      "name": "python"
    }
  },
  "cells": [
    {
      "cell_type": "markdown",
      "metadata": {
        "id": "view-in-github",
        "colab_type": "text"
      },
      "source": [
        "<a href=\"https://colab.research.google.com/github/SumanSDey/Solving-Business-Problems/blob/Customer-Segmentation-using-synthetic-data/Customer_Segmentation.ipynb\" target=\"_parent\"><img src=\"https://colab.research.google.com/assets/colab-badge.svg\" alt=\"Open In Colab\"/></a>"
      ]
    },
    {
      "cell_type": "markdown",
      "source": [
        "# Customer Segmentation for targetted marketing strategy building"
      ],
      "metadata": {
        "id": "LJyXs7UOST1t"
      }
    },
    {
      "cell_type": "code",
      "source": [],
      "metadata": {
        "id": "2cPvpNlyRpCY"
      },
      "execution_count": 3,
      "outputs": []
    },
    {
      "cell_type": "markdown",
      "source": [
        "## Importing necessary python libraries"
      ],
      "metadata": {
        "id": "gtCgkKM9S0pT"
      }
    },
    {
      "cell_type": "code",
      "execution_count": 4,
      "metadata": {
        "id": "67ZCdHVXJjLx"
      },
      "outputs": [],
      "source": [
        "import pandas as pd\n",
        "import matplotlib.pyplot as plt\n",
        "import seaborn as sns\n",
        "from sklearn.cluster import KMeans\n",
        "from sklearn.preprocessing import StandardScaler\n",
        "\n",
        "# Input data files are available in the read-only \"../input/\" directory\n",
        "# For example, running this (by clicking run or pressing Shift+Enter) will list all files under the input directory\n",
        "\n",
        "import os\n",
        "for dirname, _, filenames in os.walk('/content/drive/MyDrive/segmentation_preprocessed.csv'):\n",
        "    for filename in filenames:\n",
        "        print(os.path.join(dirname, filename))\n"
      ]
    },
    {
      "cell_type": "code",
      "source": [
        "# Loading the dataset to pandas data frame\n",
        "filepath = '/content/drive/MyDrive/segmentation_preprocessed.csv'\n",
        "\n",
        "data_frame = pd.read_csv(filepath)\n",
        "data_frame.head()\n"
      ],
      "metadata": {
        "id": "fiyBDfErRzui",
        "colab": {
          "base_uri": "https://localhost:8080/",
          "height": 247
        },
        "outputId": "f87a72e1-8b68-4efd-9c26-f27532e71e1c"
      },
      "execution_count": 5,
      "outputs": [
        {
          "output_type": "execute_result",
          "data": {
            "text/plain": [
              "       ID  Gender Ever_Married  Age Graduated     Profession  Work_Experience  \\\n",
              "0  462809    Male           No   22        No     Healthcare              1.0   \n",
              "1  462643  Female          Yes   38       Yes       Engineer              NaN   \n",
              "2  466315  Female          Yes   67       Yes       Engineer              1.0   \n",
              "3  461735    Male          Yes   67       Yes         Lawyer              0.0   \n",
              "4  462669  Female          Yes   40       Yes  Entertainment              NaN   \n",
              "\n",
              "  Spending_Score  Family_Size  Var_1 Segmentation  \n",
              "0            Low          4.0  Cat_4            D  \n",
              "1        Average          3.0  Cat_4            A  \n",
              "2            Low          1.0  Cat_6            B  \n",
              "3           High          2.0  Cat_6            B  \n",
              "4           High          6.0  Cat_6            A  "
            ],
            "text/html": [
              "\n",
              "  <div id=\"df-5f47b3ac-bba1-44d7-8eb6-76f882ee450a\" class=\"colab-df-container\">\n",
              "    <div>\n",
              "<style scoped>\n",
              "    .dataframe tbody tr th:only-of-type {\n",
              "        vertical-align: middle;\n",
              "    }\n",
              "\n",
              "    .dataframe tbody tr th {\n",
              "        vertical-align: top;\n",
              "    }\n",
              "\n",
              "    .dataframe thead th {\n",
              "        text-align: right;\n",
              "    }\n",
              "</style>\n",
              "<table border=\"1\" class=\"dataframe\">\n",
              "  <thead>\n",
              "    <tr style=\"text-align: right;\">\n",
              "      <th></th>\n",
              "      <th>ID</th>\n",
              "      <th>Gender</th>\n",
              "      <th>Ever_Married</th>\n",
              "      <th>Age</th>\n",
              "      <th>Graduated</th>\n",
              "      <th>Profession</th>\n",
              "      <th>Work_Experience</th>\n",
              "      <th>Spending_Score</th>\n",
              "      <th>Family_Size</th>\n",
              "      <th>Var_1</th>\n",
              "      <th>Segmentation</th>\n",
              "    </tr>\n",
              "  </thead>\n",
              "  <tbody>\n",
              "    <tr>\n",
              "      <th>0</th>\n",
              "      <td>462809</td>\n",
              "      <td>Male</td>\n",
              "      <td>No</td>\n",
              "      <td>22</td>\n",
              "      <td>No</td>\n",
              "      <td>Healthcare</td>\n",
              "      <td>1.0</td>\n",
              "      <td>Low</td>\n",
              "      <td>4.0</td>\n",
              "      <td>Cat_4</td>\n",
              "      <td>D</td>\n",
              "    </tr>\n",
              "    <tr>\n",
              "      <th>1</th>\n",
              "      <td>462643</td>\n",
              "      <td>Female</td>\n",
              "      <td>Yes</td>\n",
              "      <td>38</td>\n",
              "      <td>Yes</td>\n",
              "      <td>Engineer</td>\n",
              "      <td>NaN</td>\n",
              "      <td>Average</td>\n",
              "      <td>3.0</td>\n",
              "      <td>Cat_4</td>\n",
              "      <td>A</td>\n",
              "    </tr>\n",
              "    <tr>\n",
              "      <th>2</th>\n",
              "      <td>466315</td>\n",
              "      <td>Female</td>\n",
              "      <td>Yes</td>\n",
              "      <td>67</td>\n",
              "      <td>Yes</td>\n",
              "      <td>Engineer</td>\n",
              "      <td>1.0</td>\n",
              "      <td>Low</td>\n",
              "      <td>1.0</td>\n",
              "      <td>Cat_6</td>\n",
              "      <td>B</td>\n",
              "    </tr>\n",
              "    <tr>\n",
              "      <th>3</th>\n",
              "      <td>461735</td>\n",
              "      <td>Male</td>\n",
              "      <td>Yes</td>\n",
              "      <td>67</td>\n",
              "      <td>Yes</td>\n",
              "      <td>Lawyer</td>\n",
              "      <td>0.0</td>\n",
              "      <td>High</td>\n",
              "      <td>2.0</td>\n",
              "      <td>Cat_6</td>\n",
              "      <td>B</td>\n",
              "    </tr>\n",
              "    <tr>\n",
              "      <th>4</th>\n",
              "      <td>462669</td>\n",
              "      <td>Female</td>\n",
              "      <td>Yes</td>\n",
              "      <td>40</td>\n",
              "      <td>Yes</td>\n",
              "      <td>Entertainment</td>\n",
              "      <td>NaN</td>\n",
              "      <td>High</td>\n",
              "      <td>6.0</td>\n",
              "      <td>Cat_6</td>\n",
              "      <td>A</td>\n",
              "    </tr>\n",
              "  </tbody>\n",
              "</table>\n",
              "</div>\n",
              "    <div class=\"colab-df-buttons\">\n",
              "\n",
              "  <div class=\"colab-df-container\">\n",
              "    <button class=\"colab-df-convert\" onclick=\"convertToInteractive('df-5f47b3ac-bba1-44d7-8eb6-76f882ee450a')\"\n",
              "            title=\"Convert this dataframe to an interactive table.\"\n",
              "            style=\"display:none;\">\n",
              "\n",
              "  <svg xmlns=\"http://www.w3.org/2000/svg\" height=\"24px\" viewBox=\"0 -960 960 960\">\n",
              "    <path d=\"M120-120v-720h720v720H120Zm60-500h600v-160H180v160Zm220 220h160v-160H400v160Zm0 220h160v-160H400v160ZM180-400h160v-160H180v160Zm440 0h160v-160H620v160ZM180-180h160v-160H180v160Zm440 0h160v-160H620v160Z\"/>\n",
              "  </svg>\n",
              "    </button>\n",
              "\n",
              "  <style>\n",
              "    .colab-df-container {\n",
              "      display:flex;\n",
              "      gap: 12px;\n",
              "    }\n",
              "\n",
              "    .colab-df-convert {\n",
              "      background-color: #E8F0FE;\n",
              "      border: none;\n",
              "      border-radius: 50%;\n",
              "      cursor: pointer;\n",
              "      display: none;\n",
              "      fill: #1967D2;\n",
              "      height: 32px;\n",
              "      padding: 0 0 0 0;\n",
              "      width: 32px;\n",
              "    }\n",
              "\n",
              "    .colab-df-convert:hover {\n",
              "      background-color: #E2EBFA;\n",
              "      box-shadow: 0px 1px 2px rgba(60, 64, 67, 0.3), 0px 1px 3px 1px rgba(60, 64, 67, 0.15);\n",
              "      fill: #174EA6;\n",
              "    }\n",
              "\n",
              "    .colab-df-buttons div {\n",
              "      margin-bottom: 4px;\n",
              "    }\n",
              "\n",
              "    [theme=dark] .colab-df-convert {\n",
              "      background-color: #3B4455;\n",
              "      fill: #D2E3FC;\n",
              "    }\n",
              "\n",
              "    [theme=dark] .colab-df-convert:hover {\n",
              "      background-color: #434B5C;\n",
              "      box-shadow: 0px 1px 3px 1px rgba(0, 0, 0, 0.15);\n",
              "      filter: drop-shadow(0px 1px 2px rgba(0, 0, 0, 0.3));\n",
              "      fill: #FFFFFF;\n",
              "    }\n",
              "  </style>\n",
              "\n",
              "    <script>\n",
              "      const buttonEl =\n",
              "        document.querySelector('#df-5f47b3ac-bba1-44d7-8eb6-76f882ee450a button.colab-df-convert');\n",
              "      buttonEl.style.display =\n",
              "        google.colab.kernel.accessAllowed ? 'block' : 'none';\n",
              "\n",
              "      async function convertToInteractive(key) {\n",
              "        const element = document.querySelector('#df-5f47b3ac-bba1-44d7-8eb6-76f882ee450a');\n",
              "        const dataTable =\n",
              "          await google.colab.kernel.invokeFunction('convertToInteractive',\n",
              "                                                    [key], {});\n",
              "        if (!dataTable) return;\n",
              "\n",
              "        const docLinkHtml = 'Like what you see? Visit the ' +\n",
              "          '<a target=\"_blank\" href=https://colab.research.google.com/notebooks/data_table.ipynb>data table notebook</a>'\n",
              "          + ' to learn more about interactive tables.';\n",
              "        element.innerHTML = '';\n",
              "        dataTable['output_type'] = 'display_data';\n",
              "        await google.colab.output.renderOutput(dataTable, element);\n",
              "        const docLink = document.createElement('div');\n",
              "        docLink.innerHTML = docLinkHtml;\n",
              "        element.appendChild(docLink);\n",
              "      }\n",
              "    </script>\n",
              "  </div>\n",
              "\n",
              "\n",
              "<div id=\"df-033e829e-bc0d-4482-9c98-332e6b5ec8f6\">\n",
              "  <button class=\"colab-df-quickchart\" onclick=\"quickchart('df-033e829e-bc0d-4482-9c98-332e6b5ec8f6')\"\n",
              "            title=\"Suggest charts\"\n",
              "            style=\"display:none;\">\n",
              "\n",
              "<svg xmlns=\"http://www.w3.org/2000/svg\" height=\"24px\"viewBox=\"0 0 24 24\"\n",
              "     width=\"24px\">\n",
              "    <g>\n",
              "        <path d=\"M19 3H5c-1.1 0-2 .9-2 2v14c0 1.1.9 2 2 2h14c1.1 0 2-.9 2-2V5c0-1.1-.9-2-2-2zM9 17H7v-7h2v7zm4 0h-2V7h2v10zm4 0h-2v-4h2v4z\"/>\n",
              "    </g>\n",
              "</svg>\n",
              "  </button>\n",
              "\n",
              "<style>\n",
              "  .colab-df-quickchart {\n",
              "      --bg-color: #E8F0FE;\n",
              "      --fill-color: #1967D2;\n",
              "      --hover-bg-color: #E2EBFA;\n",
              "      --hover-fill-color: #174EA6;\n",
              "      --disabled-fill-color: #AAA;\n",
              "      --disabled-bg-color: #DDD;\n",
              "  }\n",
              "\n",
              "  [theme=dark] .colab-df-quickchart {\n",
              "      --bg-color: #3B4455;\n",
              "      --fill-color: #D2E3FC;\n",
              "      --hover-bg-color: #434B5C;\n",
              "      --hover-fill-color: #FFFFFF;\n",
              "      --disabled-bg-color: #3B4455;\n",
              "      --disabled-fill-color: #666;\n",
              "  }\n",
              "\n",
              "  .colab-df-quickchart {\n",
              "    background-color: var(--bg-color);\n",
              "    border: none;\n",
              "    border-radius: 50%;\n",
              "    cursor: pointer;\n",
              "    display: none;\n",
              "    fill: var(--fill-color);\n",
              "    height: 32px;\n",
              "    padding: 0;\n",
              "    width: 32px;\n",
              "  }\n",
              "\n",
              "  .colab-df-quickchart:hover {\n",
              "    background-color: var(--hover-bg-color);\n",
              "    box-shadow: 0 1px 2px rgba(60, 64, 67, 0.3), 0 1px 3px 1px rgba(60, 64, 67, 0.15);\n",
              "    fill: var(--button-hover-fill-color);\n",
              "  }\n",
              "\n",
              "  .colab-df-quickchart-complete:disabled,\n",
              "  .colab-df-quickchart-complete:disabled:hover {\n",
              "    background-color: var(--disabled-bg-color);\n",
              "    fill: var(--disabled-fill-color);\n",
              "    box-shadow: none;\n",
              "  }\n",
              "\n",
              "  .colab-df-spinner {\n",
              "    border: 2px solid var(--fill-color);\n",
              "    border-color: transparent;\n",
              "    border-bottom-color: var(--fill-color);\n",
              "    animation:\n",
              "      spin 1s steps(1) infinite;\n",
              "  }\n",
              "\n",
              "  @keyframes spin {\n",
              "    0% {\n",
              "      border-color: transparent;\n",
              "      border-bottom-color: var(--fill-color);\n",
              "      border-left-color: var(--fill-color);\n",
              "    }\n",
              "    20% {\n",
              "      border-color: transparent;\n",
              "      border-left-color: var(--fill-color);\n",
              "      border-top-color: var(--fill-color);\n",
              "    }\n",
              "    30% {\n",
              "      border-color: transparent;\n",
              "      border-left-color: var(--fill-color);\n",
              "      border-top-color: var(--fill-color);\n",
              "      border-right-color: var(--fill-color);\n",
              "    }\n",
              "    40% {\n",
              "      border-color: transparent;\n",
              "      border-right-color: var(--fill-color);\n",
              "      border-top-color: var(--fill-color);\n",
              "    }\n",
              "    60% {\n",
              "      border-color: transparent;\n",
              "      border-right-color: var(--fill-color);\n",
              "    }\n",
              "    80% {\n",
              "      border-color: transparent;\n",
              "      border-right-color: var(--fill-color);\n",
              "      border-bottom-color: var(--fill-color);\n",
              "    }\n",
              "    90% {\n",
              "      border-color: transparent;\n",
              "      border-bottom-color: var(--fill-color);\n",
              "    }\n",
              "  }\n",
              "</style>\n",
              "\n",
              "  <script>\n",
              "    async function quickchart(key) {\n",
              "      const quickchartButtonEl =\n",
              "        document.querySelector('#' + key + ' button');\n",
              "      quickchartButtonEl.disabled = true;  // To prevent multiple clicks.\n",
              "      quickchartButtonEl.classList.add('colab-df-spinner');\n",
              "      try {\n",
              "        const charts = await google.colab.kernel.invokeFunction(\n",
              "            'suggestCharts', [key], {});\n",
              "      } catch (error) {\n",
              "        console.error('Error during call to suggestCharts:', error);\n",
              "      }\n",
              "      quickchartButtonEl.classList.remove('colab-df-spinner');\n",
              "      quickchartButtonEl.classList.add('colab-df-quickchart-complete');\n",
              "    }\n",
              "    (() => {\n",
              "      let quickchartButtonEl =\n",
              "        document.querySelector('#df-033e829e-bc0d-4482-9c98-332e6b5ec8f6 button');\n",
              "      quickchartButtonEl.style.display =\n",
              "        google.colab.kernel.accessAllowed ? 'block' : 'none';\n",
              "    })();\n",
              "  </script>\n",
              "</div>\n",
              "\n",
              "    </div>\n",
              "  </div>\n"
            ],
            "application/vnd.google.colaboratory.intrinsic+json": {
              "type": "dataframe",
              "variable_name": "data_frame",
              "summary": "{\n  \"name\": \"data_frame\",\n  \"rows\": 16136,\n  \"fields\": [\n    {\n      \"column\": \"ID\",\n      \"properties\": {\n        \"dtype\": \"number\",\n        \"std\": 2598,\n        \"min\": 458982,\n        \"max\": 467974,\n        \"num_unique_values\": 8609,\n        \"samples\": [\n          460103,\n          462777,\n          461321\n        ],\n        \"semantic_type\": \"\",\n        \"description\": \"\"\n      }\n    },\n    {\n      \"column\": \"Gender\",\n      \"properties\": {\n        \"dtype\": \"category\",\n        \"num_unique_values\": 2,\n        \"samples\": [\n          \"Female\",\n          \"Male\"\n        ],\n        \"semantic_type\": \"\",\n        \"description\": \"\"\n      }\n    },\n    {\n      \"column\": \"Ever_Married\",\n      \"properties\": {\n        \"dtype\": \"category\",\n        \"num_unique_values\": 2,\n        \"samples\": [\n          \"Yes\",\n          \"No\"\n        ],\n        \"semantic_type\": \"\",\n        \"description\": \"\"\n      }\n    },\n    {\n      \"column\": \"Age\",\n      \"properties\": {\n        \"dtype\": \"number\",\n        \"std\": 16,\n        \"min\": 18,\n        \"max\": 89,\n        \"num_unique_values\": 67,\n        \"samples\": [\n          30,\n          49\n        ],\n        \"semantic_type\": \"\",\n        \"description\": \"\"\n      }\n    },\n    {\n      \"column\": \"Graduated\",\n      \"properties\": {\n        \"dtype\": \"category\",\n        \"num_unique_values\": 2,\n        \"samples\": [\n          \"Yes\",\n          \"No\"\n        ],\n        \"semantic_type\": \"\",\n        \"description\": \"\"\n      }\n    },\n    {\n      \"column\": \"Profession\",\n      \"properties\": {\n        \"dtype\": \"category\",\n        \"num_unique_values\": 9,\n        \"samples\": [\n          \"Homemaker\",\n          \"Engineer\"\n        ],\n        \"semantic_type\": \"\",\n        \"description\": \"\"\n      }\n    },\n    {\n      \"column\": \"Work_Experience\",\n      \"properties\": {\n        \"dtype\": \"number\",\n        \"std\": 3.416977937845341,\n        \"min\": 0.0,\n        \"max\": 14.0,\n        \"num_unique_values\": 15,\n        \"samples\": [\n          14.0,\n          2.0\n        ],\n        \"semantic_type\": \"\",\n        \"description\": \"\"\n      }\n    },\n    {\n      \"column\": \"Spending_Score\",\n      \"properties\": {\n        \"dtype\": \"category\",\n        \"num_unique_values\": 3,\n        \"samples\": [\n          \"Low\",\n          \"Average\"\n        ],\n        \"semantic_type\": \"\",\n        \"description\": \"\"\n      }\n    },\n    {\n      \"column\": \"Family_Size\",\n      \"properties\": {\n        \"dtype\": \"number\",\n        \"std\": 1.5118050874876898,\n        \"min\": 1.0,\n        \"max\": 9.0,\n        \"num_unique_values\": 9,\n        \"samples\": [\n          7.0,\n          3.0\n        ],\n        \"semantic_type\": \"\",\n        \"description\": \"\"\n      }\n    },\n    {\n      \"column\": \"Var_1\",\n      \"properties\": {\n        \"dtype\": \"category\",\n        \"num_unique_values\": 7,\n        \"samples\": [\n          \"Cat_4\",\n          \"Cat_6\"\n        ],\n        \"semantic_type\": \"\",\n        \"description\": \"\"\n      }\n    },\n    {\n      \"column\": \"Segmentation\",\n      \"properties\": {\n        \"dtype\": \"category\",\n        \"num_unique_values\": 4,\n        \"samples\": [\n          \"A\",\n          \"C\"\n        ],\n        \"semantic_type\": \"\",\n        \"description\": \"\"\n      }\n    }\n  ]\n}"
            }
          },
          "metadata": {},
          "execution_count": 5
        }
      ]
    },
    {
      "cell_type": "markdown",
      "source": [
        "## Data Preprocessing"
      ],
      "metadata": {
        "id": "00MceQ1kSOXC"
      }
    },
    {
      "cell_type": "code",
      "source": [
        "\n",
        "# Load the data\n",
        "data_frame = pd.read_csv(filepath)\n",
        "\n",
        "# Check for missing values\n",
        "print(data_frame.isnull().sum())\n"
      ],
      "metadata": {
        "id": "u8_QLdVGR0tL",
        "colab": {
          "base_uri": "https://localhost:8080/"
        },
        "outputId": "dc539188-3d10-4022-9ee1-5186687dffdd"
      },
      "execution_count": 6,
      "outputs": [
        {
          "output_type": "stream",
          "name": "stdout",
          "text": [
            "ID                    0\n",
            "Gender                0\n",
            "Ever_Married        266\n",
            "Age                   0\n",
            "Graduated           155\n",
            "Profession          244\n",
            "Work_Experience    1663\n",
            "Spending_Score        0\n",
            "Family_Size           0\n",
            "Var_1               156\n",
            "Segmentation          0\n",
            "dtype: int64\n"
          ]
        }
      ]
    },
    {
      "cell_type": "code",
      "source": [
        "#Fill the missing value\n",
        "\n",
        "data_frame['Ever_Married'].fillna(data_frame['Ever_Married'].mode()[0], inplace=True)\n",
        "data_frame['Graduated'].fillna(data_frame['Graduated'].mode()[0], inplace=True)\n",
        "data_frame['Profession'].fillna('Unknown', inplace=True)\n",
        "data_frame['Work_Experience'].fillna(0, inplace=True)\n",
        "data_frame['Family_Size'].fillna(data_frame['Family_Size'].median(), inplace=True)\n",
        "data_frame['Var_1'].fillna(data_frame['Var_1'].mode()[0], inplace=True)\n",
        "\n",
        "# Check the data types of each column\n",
        "print(data_frame.dtypes)\n"
      ],
      "metadata": {
        "id": "Yh7GtTUCR1Hq",
        "colab": {
          "base_uri": "https://localhost:8080/"
        },
        "outputId": "743701b5-782d-4d2e-96eb-718b365a3d9c"
      },
      "execution_count": 7,
      "outputs": [
        {
          "output_type": "stream",
          "name": "stdout",
          "text": [
            "ID                   int64\n",
            "Gender              object\n",
            "Ever_Married        object\n",
            "Age                  int64\n",
            "Graduated           object\n",
            "Profession          object\n",
            "Work_Experience    float64\n",
            "Spending_Score      object\n",
            "Family_Size        float64\n",
            "Var_1               object\n",
            "Segmentation        object\n",
            "dtype: object\n"
          ]
        }
      ]
    },
    {
      "cell_type": "code",
      "source": [
        "# Confirmation so that no missing values exists\n",
        "print(data_frame.isnull().sum())"
      ],
      "metadata": {
        "colab": {
          "base_uri": "https://localhost:8080/"
        },
        "id": "gFvOo2pb0Pvh",
        "outputId": "2f27c1a1-b14c-4b4d-9f87-70f55ae02cfc"
      },
      "execution_count": 8,
      "outputs": [
        {
          "output_type": "stream",
          "name": "stdout",
          "text": [
            "ID                 0\n",
            "Gender             0\n",
            "Ever_Married       0\n",
            "Age                0\n",
            "Graduated          0\n",
            "Profession         0\n",
            "Work_Experience    0\n",
            "Spending_Score     0\n",
            "Family_Size        0\n",
            "Var_1              0\n",
            "Segmentation       0\n",
            "dtype: int64\n"
          ]
        }
      ]
    },
    {
      "cell_type": "code",
      "source": [
        "# Statistical insights\n",
        "\n",
        "print(data_frame.describe())\n",
        "\n",
        "# Check for outliers\n",
        "print(data_frame.boxplot())\n"
      ],
      "metadata": {
        "colab": {
          "base_uri": "https://localhost:8080/",
          "height": 604
        },
        "id": "KPXpZR6n5tdL",
        "outputId": "352d793d-274a-42fb-a444-e07640afbe2c"
      },
      "execution_count": 9,
      "outputs": [
        {
          "output_type": "stream",
          "name": "stdout",
          "text": [
            "                  ID           Age  Work_Experience   Family_Size\n",
            "count   16136.000000  16136.000000     16136.000000  16136.000000\n",
            "mean   463482.213498     43.344819         2.426934      2.891609\n",
            "std      2598.723220     16.206981         3.339037      1.511805\n",
            "min    458982.000000     18.000000         0.000000      1.000000\n",
            "25%    461222.750000     31.000000         0.000000      2.000000\n",
            "50%    463500.500000     41.000000         1.000000      3.000000\n",
            "75%    465739.000000     52.000000         4.000000      4.000000\n",
            "max    467974.000000     89.000000        14.000000      9.000000\n",
            "Axes(0.125,0.11;0.775x0.77)\n"
          ]
        },
        {
          "output_type": "display_data",
          "data": {
            "text/plain": [
              "<Figure size 640x480 with 1 Axes>"
            ],
            "image/png": "[encoded data removed]"
          },
          "metadata": {}
        }
      ]
    },
    {
      "cell_type": "code",
      "source": [
        "# Feature Encoding\n",
        "# Machine learning algorithms require numerical inputs, so you need to encode categorical features\n",
        "# like 'Gender,' 'Ever_Married,' 'Graduated,' 'Profession,' 'Spending_Score,' and 'Var_1.'\n",
        "# Perform one-hot encoding\n",
        "data_encoded = pd.get_dummies(data_frame, columns=['Gender', 'Ever_Married', 'Graduated', 'Profession', 'Spending_Score', 'Var_1'])\n",
        "\n",
        "# Drop the 'ID' column as it's not needed for segmentation\n",
        "data_encoded.drop('ID', axis=1, inplace=True)\n",
        "\n",
        "# Check the updated data\n",
        "print(data_encoded.head())\n",
        "\n"
      ],
      "metadata": {
        "id": "u6AP3td1R1p6",
        "colab": {
          "base_uri": "https://localhost:8080/"
        },
        "outputId": "7a454ffd-4f69-4e2c-c504-a20352ab010e"
      },
      "execution_count": 10,
      "outputs": [
        {
          "output_type": "stream",
          "name": "stdout",
          "text": [
            "   Age  Work_Experience  Family_Size Segmentation  Gender_Female  Gender_Male  \\\n",
            "0   22              1.0          4.0            D          False         True   \n",
            "1   38              0.0          3.0            A           True        False   \n",
            "2   67              1.0          1.0            B           True        False   \n",
            "3   67              0.0          2.0            B          False         True   \n",
            "4   40              0.0          6.0            A           True        False   \n",
            "\n",
            "   Ever_Married_No  Ever_Married_Yes  Graduated_No  Graduated_Yes  ...  \\\n",
            "0             True             False          True          False  ...   \n",
            "1            False              True         False           True  ...   \n",
            "2            False              True         False           True  ...   \n",
            "3            False              True         False           True  ...   \n",
            "4            False              True         False           True  ...   \n",
            "\n",
            "   Spending_Score_Average  Spending_Score_High  Spending_Score_Low  \\\n",
            "0                   False                False                True   \n",
            "1                    True                False               False   \n",
            "2                   False                False                True   \n",
            "3                   False                 True               False   \n",
            "4                   False                 True               False   \n",
            "\n",
            "   Var_1_Cat_1  Var_1_Cat_2  Var_1_Cat_3  Var_1_Cat_4  Var_1_Cat_5  \\\n",
            "0        False        False        False         True        False   \n",
            "1        False        False        False         True        False   \n",
            "2        False        False        False        False        False   \n",
            "3        False        False        False        False        False   \n",
            "4        False        False        False        False        False   \n",
            "\n",
            "   Var_1_Cat_6  Var_1_Cat_7  \n",
            "0        False        False  \n",
            "1        False        False  \n",
            "2         True        False  \n",
            "3         True        False  \n",
            "4         True        False  \n",
            "\n",
            "[5 rows x 30 columns]\n"
          ]
        }
      ]
    },
    {
      "cell_type": "code",
      "source": [
        "# Scalling Features\n",
        "# To ensure that features with different scales do not bias the segmentation, it's a good practice to scale numerical features:\n",
        "\n",
        "from sklearn.preprocessing import StandardScaler\n",
        "\n",
        "# Scale numerical features\n",
        "scaler = StandardScaler()\n",
        "num_cols = ['Age', 'Work_Experience', 'Family_Size']\n",
        "data_encoded[num_cols] = scaler.fit_transform(data_encoded[num_cols])\n",
        "\n",
        "# Check the updated data\n",
        "print(data_encoded.head())\n",
        "\n",
        "\n"
      ],
      "metadata": {
        "id": "UhLW4r2HR2Ha",
        "colab": {
          "base_uri": "https://localhost:8080/"
        },
        "outputId": "1b562b9d-2571-4cf4-c6db-e1f9a09fcd97"
      },
      "execution_count": 11,
      "outputs": [
        {
          "output_type": "stream",
          "name": "stdout",
          "text": [
            "        Age  Work_Experience  Family_Size Segmentation  Gender_Female  \\\n",
            "0 -1.317055        -0.427362     0.733180            D          False   \n",
            "1 -0.329795        -0.726859     0.071699            A           True   \n",
            "2  1.459613        -0.427362    -1.251264            B           True   \n",
            "3  1.459613        -0.726859    -0.589783            B          False   \n",
            "4 -0.206388        -0.726859     2.056143            A           True   \n",
            "\n",
            "   Gender_Male  Ever_Married_No  Ever_Married_Yes  Graduated_No  \\\n",
            "0         True             True             False          True   \n",
            "1        False            False              True         False   \n",
            "2        False            False              True         False   \n",
            "3         True            False              True         False   \n",
            "4        False            False              True         False   \n",
            "\n",
            "   Graduated_Yes  ...  Spending_Score_Average  Spending_Score_High  \\\n",
            "0          False  ...                   False                False   \n",
            "1           True  ...                    True                False   \n",
            "2           True  ...                   False                False   \n",
            "3           True  ...                   False                 True   \n",
            "4           True  ...                   False                 True   \n",
            "\n",
            "   Spending_Score_Low  Var_1_Cat_1  Var_1_Cat_2  Var_1_Cat_3  Var_1_Cat_4  \\\n",
            "0                True        False        False        False         True   \n",
            "1               False        False        False        False         True   \n",
            "2                True        False        False        False        False   \n",
            "3               False        False        False        False        False   \n",
            "4               False        False        False        False        False   \n",
            "\n",
            "   Var_1_Cat_5  Var_1_Cat_6  Var_1_Cat_7  \n",
            "0        False        False        False  \n",
            "1        False        False        False  \n",
            "2        False         True        False  \n",
            "3        False         True        False  \n",
            "4        False         True        False  \n",
            "\n",
            "[5 rows x 30 columns]\n"
          ]
        }
      ]
    },
    {
      "cell_type": "markdown",
      "source": [
        "### Age of Homemaker vs their Spending score"
      ],
      "metadata": {
        "id": "EeDquzFtBE9t"
      }
    },
    {
      "cell_type": "code",
      "source": [
        "# prompt: Generate a code to plot two bar plots side by side. plot 1: y axis = Spending_score, x axis = profession\n",
        "\n",
        "import matplotlib.pyplot as plt\n",
        "import seaborn as sns\n",
        "# Plot 1: Spending Score vs Profession\n",
        "\n",
        "plt.figure(figsize=(10, 5))  # Adjust figure size as needed\n",
        "\n",
        "sns.barplot(x='Profession', y='Spending_Score', hue='Profession', data=data_frame)\n",
        "plt.title('Spending Score by Profession')\n",
        "plt.xlabel('Profession')\n",
        "plt.ylabel('Spending Score')\n",
        "\n"
      ],
      "metadata": {
        "colab": {
          "base_uri": "https://localhost:8080/",
          "height": 504
        },
        "id": "A2DO-Mc37Rw_",
        "outputId": "4cbc5008-8a58-4684-d950-8bf3a5d82a66"
      },
      "execution_count": 17,
      "outputs": [
        {
          "output_type": "execute_result",
          "data": {
            "text/plain": [
              "Text(0, 0.5, 'Spending Score')"
            ]
          },
          "metadata": {},
          "execution_count": 17
        },
        {
          "output_type": "display_data",
          "data": {
            "text/plain": [
              "<Figure size 1000x500 with 1 Axes>"
            ],
            "image/png": "[encoded data removed]"
          },
          "metadata": {}
        }
      ]
    },
    {
      "cell_type": "code",
      "source": [
        "# Customer Segmentation\n",
        "# Now that the data is preprocessed, we can perform customer segmentation.\n",
        "# K-Means clustering is a commonly used algorithm for this task. We'll need to choose the number of clusters (K) based on our business needs.\n",
        "# For now, let's assume K=4, like the existing market segments.\n",
        "\n",
        "from sklearn.cluster import KMeans\n",
        "\n",
        "# ... (Assuming you have data_frame and data_encoded already defined)\n",
        "\n",
        "# Select only numerical columns for clustering\n",
        "numeric_data = data_encoded.select_dtypes(include=['number'])\n",
        "\n",
        "# Fit K-Means clustering model\n",
        "kmeans = KMeans(n_clusters=4, random_state=42)\n",
        "data_encoded['Cluster'] = kmeans.fit_predict(numeric_data)  # Apply model to numerical data\n",
        "\n",
        "# ... (Remaining code from your original snippet)\n",
        "\n",
        "\n",
        "\n",
        "\n",
        "# Check the distribution of customers in each cluster\n",
        "print(data_encoded['Cluster'].value_counts())\n",
        "\n",
        "# Add the cluster labels back to the original data\n",
        "data_frame['Cluster'] = data_encoded['Cluster']\n",
        "\n",
        "# Exclude non-numeric columns from mean calculation\n",
        "numeric_columns = ['Age', 'Work_Experience', 'Family_Size']  # Add other numeric columns if needed\n",
        "segmented_data = data_frame.groupby('Cluster')[numeric_columns].mean()\n",
        "\n",
        "print(segmented_data)\n",
        "\n"
      ],
      "metadata": {
        "id": "PQmCgRTBR2x5",
        "colab": {
          "base_uri": "https://localhost:8080/"
        },
        "outputId": "ab7fe443-5161-4502-e8a0-3656f7d11ee3"
      },
      "execution_count": 13,
      "outputs": [
        {
          "output_type": "stream",
          "name": "stderr",
          "text": [
            "/usr/local/lib/python3.10/dist-packages/sklearn/cluster/_kmeans.py:870: FutureWarning: The default value of `n_init` will change from 10 to 'auto' in 1.4. Set the value of `n_init` explicitly to suppress the warning\n",
            "  warnings.warn(\n"
          ]
        },
        {
          "output_type": "stream",
          "name": "stdout",
          "text": [
            "Cluster\n",
            "3    5489\n",
            "0    3837\n",
            "1    3559\n",
            "2    3251\n",
            "Name: count, dtype: int64\n",
            "               Age  Work_Experience  Family_Size\n",
            "Cluster                                         \n",
            "0        35.640605         1.160542     4.860568\n",
            "1        66.852768         0.862321     2.250351\n",
            "2        37.848662         8.315288     2.546909\n",
            "3        36.743305         0.839133     2.135179\n"
          ]
        }
      ]
    },
    {
      "cell_type": "markdown",
      "source": [
        "##Cluster Analysis:\n"
      ],
      "metadata": {
        "id": "KQg9Prh6_wn2"
      }
    },
    {
      "cell_type": "code",
      "source": [
        "\n",
        "# Fit K-Means clustering model\n",
        "kmeans = KMeans(n_clusters=4, random_state=42)\n",
        "data_frame['Cluster'] = kmeans.fit_predict(data_frame[['Age', 'Work_Experience', 'Family_Size']])\n",
        "\n",
        "# Bar plot for cluster distribution\n",
        "plt.figure(figsize=(8, 4))\n",
        "sns.countplot(data_frame['Cluster'])\n",
        "plt.title('Cluster Distribution')\n",
        "plt.xlabel('Cluster')\n",
        "plt.ylabel('Count')\n",
        "plt.show()\n",
        "\n",
        "# Exclude categorical columns from clustering and mean calculation\n",
        "numeric_columns = ['Age', 'Work_Experience', 'Family_Size']  # Add other numeric columns if needed\n",
        "segmented_data = data_frame.groupby('Cluster')[numeric_columns].mean()\n",
        "\n",
        "plt.figure(figsize=(10, 6))\n",
        "sns.barplot(data=segmented_data.reset_index(), x='Cluster', y='Age', ci='sd')\n",
        "plt.title('Cluster Profiles - Age')\n",
        "plt.xlabel('Cluster')\n",
        "plt.ylabel('Average Age')\n",
        "plt.show()\n",
        "\n"
      ],
      "metadata": {
        "id": "w5IMhpj-R4aD",
        "colab": {
          "base_uri": "https://localhost:8080/",
          "height": 1000
        },
        "outputId": "8b1ad85f-26ff-44da-833f-6673c441487f"
      },
      "execution_count": 14,
      "outputs": [
        {
          "output_type": "stream",
          "name": "stderr",
          "text": [
            "/usr/local/lib/python3.10/dist-packages/sklearn/cluster/_kmeans.py:870: FutureWarning: The default value of `n_init` will change from 10 to 'auto' in 1.4. Set the value of `n_init` explicitly to suppress the warning\n",
            "  warnings.warn(\n"
          ]
        },
        {
          "output_type": "display_data",
          "data": {
            "text/plain": [
              "<Figure size 800x400 with 1 Axes>"
            ],
            "image/png": "[encoded data removed]"
          },
          "metadata": {}
        },
        {
          "output_type": "stream",
          "name": "stderr",
          "text": [
            "<ipython-input-14-711edd0d2e60>:18: FutureWarning: \n",
            "\n",
            "The `ci` parameter is deprecated. Use `errorbar='sd'` for the same effect.\n",
            "\n",
            "  sns.barplot(data=segmented_data.reset_index(), x='Cluster', y='Age', ci='sd')\n"
          ]
        },
        {
          "output_type": "display_data",
          "data": {
            "text/plain": [
              "<Figure size 1000x600 with 1 Axes>"
            ],
            "image/png": "[encoded data removed]"
          },
          "metadata": {}
        }
      ]
    },
    {
      "cell_type": "code",
      "source": [
        "# prompt: In the above code, replace the name \"sample_data\" with \"data_frame\"\n",
        "\n",
        "import matplotlib.pyplot as plt\n",
        "# Fit K-Means clustering model (apply to the reduced data)\n",
        "kmeans = KMeans(n_clusters=4, random_state=42)\n",
        "data_frame['Cluster'] = kmeans.fit_predict(numeric_data)\n",
        "\n",
        "# Combine calculations for visualizations (avoid redundant grouping)\n",
        "cluster_data = data_frame.groupby('Cluster').agg({\n",
        "  'Age': 'mean',\n",
        "  'Work_Experience': 'mean',\n",
        "  'Family_Size': 'mean',\n",
        "  # Add other numeric columns with desired aggregations (e.g., std)\n",
        "})\n",
        "\n",
        "# Create visualizations using the pre-calculated data\n",
        "plt.figure(figsize=(12, 8))  # Adjust figure size as needed\n",
        "\n",
        "# Cluster Distribution\n",
        "plt.subplot(2, 3, 1)  # Create a subplot in a 2x3 grid (first row, first column)\n",
        "sns.countplot(x='Cluster', data=data_frame)\n",
        "plt.title('Cluster Distribution')\n",
        "plt.xlabel('Cluster')\n",
        "plt.ylabel('Count')\n",
        "\n",
        "# Cluster Profiles - Age\n",
        "plt.subplot(2, 3, 2)  # Create a subplot (second row, first column)\n",
        "sns.barplot(x='Cluster', y='Age', data=cluster_data, ci='sd')\n",
        "plt.title('Cluster Profiles - Age')\n",
        "plt.xlabel('Cluster')\n",
        "plt.ylabel('Average Age')\n",
        "\n",
        "# Cluster Profiles - Work Experience\n",
        "plt.subplot(2, 3, 3)  # Create a subplot (second row, second column)\n",
        "sns.barplot(x='Cluster', y='Work_Experience', data=cluster_data, ci='sd')\n",
        "plt.title('Cluster Profiles - Work Experience')\n",
        "plt.xlabel('Cluster')\n",
        "plt.ylabel('Average Work Experience')\n",
        "\n",
        "# Cluster Profiles - Family Size\n",
        "plt.subplot(2, 3, 4)  # Create a subplot (second row, third column)\n",
        "sns.barplot(x='Cluster', y='Family_Size', data=cluster_data, ci='sd')\n",
        "plt.title('Cluster Profiles - Family Size')\n",
        "plt.xlabel('Cluster')\n",
        "plt.ylabel('Average Family Size')\n",
        "\n",
        "plt.tight_layout()  # Adjust spacing between subplots\n",
        "plt.show()\n"
      ],
      "metadata": {
        "colab": {
          "base_uri": "https://localhost:8080/",
          "height": 1000
        },
        "id": "AmI17RWeq-n_",
        "outputId": "d76e564b-8aac-4559-a714-69c5297619fa"
      },
      "execution_count": 15,
      "outputs": [
        {
          "output_type": "stream",
          "name": "stderr",
          "text": [
            "/usr/local/lib/python3.10/dist-packages/sklearn/cluster/_kmeans.py:870: FutureWarning: The default value of `n_init` will change from 10 to 'auto' in 1.4. Set the value of `n_init` explicitly to suppress the warning\n",
            "  warnings.warn(\n",
            "<ipython-input-15-310748c06c41>:28: FutureWarning: \n",
            "\n",
            "The `ci` parameter is deprecated. Use `errorbar='sd'` for the same effect.\n",
            "\n",
            "  sns.barplot(x='Cluster', y='Age', data=cluster_data, ci='sd')\n",
            "<ipython-input-15-310748c06c41>:35: FutureWarning: \n",
            "\n",
            "The `ci` parameter is deprecated. Use `errorbar='sd'` for the same effect.\n",
            "\n",
            "  sns.barplot(x='Cluster', y='Work_Experience', data=cluster_data, ci='sd')\n",
            "<ipython-input-15-310748c06c41>:42: FutureWarning: \n",
            "\n",
            "The `ci` parameter is deprecated. Use `errorbar='sd'` for the same effect.\n",
            "\n",
            "  sns.barplot(x='Cluster', y='Family_Size', data=cluster_data, ci='sd')\n"
          ]
        },
        {
          "output_type": "display_data",
          "data": {
            "text/plain": [
              "<Figure size 1200x800 with 4 Axes>"
            ],
            "image/png": "[encoded data removed]"
          },
          "metadata": {}
        }
      ]
    },
    {
      "cell_type": "markdown",
      "source": [
        "## Thanks for your time!"
      ],
      "metadata": {
        "id": "cXd3Hn1QcOn_"
      }
    },
    {
      "cell_type": "code",
      "source": [],
      "metadata": {
        "id": "Eg8xahmQtQFT"
      },
      "execution_count": 15,
      "outputs": []
    }
  ]
}